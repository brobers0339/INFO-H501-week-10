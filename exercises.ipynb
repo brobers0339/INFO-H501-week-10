{
 "cells": [
  {
   "cell_type": "markdown",
   "id": "e3aad6c5",
   "metadata": {},
   "source": [
    "<font color='darkred'>Unless otherwise noted, **this notebook will not be reviewed or autograded.**</font> You are welcome to use it for scratchwork, but **only the files listed in the exercises will be checked.**\n",
    "\n",
    "---\n",
    "\n",
    "# Exercises\n",
    "\n",
    "For these exercises, you'll need to update the *apputil\\.py* file and the *app\\.py* file."
   ]
  },
  {
   "cell_type": "markdown",
   "id": "a31fe569",
   "metadata": {},
   "source": [
    "## Exercise 1\n",
    "\n",
    "Recall the [simple streamlit app](https://github.com/leontoddjohnson/simple_streamlit) and the [coffee analysis data](https://raw.githubusercontent.com/leontoddjohnson/datasets/refs/heads/main/data/coffee_analysis.csv) used.\n",
    "\n",
    "Write a Python script called `train.py` that does the following:\n",
    "\n",
    "- Loads the [coffee analysis data](https://raw.githubusercontent.com/leontoddjohnson/datasets/refs/heads/main/data/coffee_analysis.csv) (from the URL).\n",
    "- Trains a (Scikit-Learn) linear regression model to predict `rating` based on the single feature `100g_USD`.\n",
    "- Saves the trained model in this repository as a pickle file called `model_1.pickle`.\n",
    "\n",
    "## Exercise 2\n",
    "\n",
    "Update the script to train another linear regression model that predicts `rating` based on *both* `100g_USD` and `roast`, and saves the trained model as `model_2.pickle`. Notice that the `roast` column is categorical, so you'll need to convert it to a numerical format (e.g., dummy variables or categorical codes).\n",
    "\n",
    "## Exercise 3\n",
    "\n",
    "Update the *apputil\\.py* file to include a `predict_rating(X)` function that takes in a two-column dataframe, `X`, with columns `100g_USD` and `roast`, and returns an array containing corresponding predicted `rating` values. If a `roast` value is not one of the roast values in the training data, the function should only use the `100g_USD` value to make the prediction (recall `model_1.pickle`). Otherwise, it should use both features."
   ]
  },
  {
   "cell_type": "code",
   "execution_count": null,
   "id": "a6db8908",
   "metadata": {},
   "outputs": [],
   "source": [
    "from apputil import predict_rating\n",
    "\n",
    "X = pd.DataFrame([\n",
    "    [10.00, \"Dark\"],\n",
    "    [15.00, \"Medium\"]], \n",
    "    columns=[\"100g_USD\", \"roast\"])\n",
    "y = predict_rating(X)\n",
    "y"
   ]
  },
  {
   "cell_type": "markdown",
   "id": "71e25da7",
   "metadata": {},
   "source": [
    "## (Optional) Bonus Exercise\n",
    "\n",
    "Vectorize the `desc_3` column in the coffee analysis data using TF-IDF vectorization. Train a linear regression model to predict `rating` based only on the vectorized text data, and save the trained model as `model_3.pickle`.\n",
    "\n",
    "Adjust your `predict_rating(X, text=True)` function where the `text` argument indicates that `X` is an array of strings of text (in the style of the reviews in `desc_3`). Update the function so that when `text=True`, it returns predicted ratings based on the text.\n",
    "\n",
    "Note: you'll need to figure out what to do when the input text contains words that were not in the training data."
   ]
  },
  {
   "cell_type": "code",
   "execution_count": null,
   "id": "04b35922",
   "metadata": {},
   "outputs": [],
   "source": [
    "X = pd.DataFrame([\n",
    "    \"A delightfull coffee with hints of chocolate and caramel.\",\n",
    "    \"A strong coffee with a bold flavor and a smoky finish.\"], \n",
    "    columns=[\"text\"])\n",
    "y = predict_rating(X, text=True)\n",
    "y"
   ]
  }
 ],
 "metadata": {
  "language_info": {
   "name": "python"
  }
 },
 "nbformat": 4,
 "nbformat_minor": 5
}
